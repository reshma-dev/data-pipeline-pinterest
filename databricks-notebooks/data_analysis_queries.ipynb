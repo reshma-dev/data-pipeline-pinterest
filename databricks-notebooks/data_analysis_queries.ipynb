{
 "cells": [
  {
   "cell_type": "markdown",
   "metadata": {
    "application/vnd.databricks.v1+cell": {
     "cellMetadata": {
      "byteLimit": 2048000,
      "rowLimit": 10000
     },
     "inputWidgets": {},
     "nuid": "8a65386f-c8c5-4729-b630-8f541f0c7db4",
     "showTitle": false,
     "title": ""
    }
   },
   "source": [
    "### Run `batch_processing` notebook to read and clean data\n",
    "Cleaned data will be available in `cleaned_df_pin`, `cleaned_df_geo` and `cleaned_df_user` dataframes, ready for running analysis queries\n"
   ]
  },
  {
   "cell_type": "code",
   "execution_count": 0,
   "metadata": {
    "application/vnd.databricks.v1+cell": {
     "cellMetadata": {
      "byteLimit": 2048000,
      "rowLimit": 10000
     },
     "inputWidgets": {},
     "nuid": "310863ba-de00-450e-b415-c6ab5a98f3ff",
     "showTitle": false,
     "title": ""
    }
   },
   "outputs": [],
   "source": [
    "%run \"./batch_processing\""
   ]
  },
  {
   "cell_type": "markdown",
   "metadata": {
    "application/vnd.databricks.v1+cell": {
     "cellMetadata": {
      "byteLimit": 2048000,
      "rowLimit": 10000
     },
     "inputWidgets": {},
     "nuid": "4e388169-3528-40ed-b456-4a189c66655a",
     "showTitle": false,
     "title": ""
    }
   },
   "source": [
    "### Data Queries"
   ]
  },
  {
   "cell_type": "markdown",
   "metadata": {
    "application/vnd.databricks.v1+cell": {
     "cellMetadata": {
      "byteLimit": 2048000,
      "rowLimit": 10000
     },
     "inputWidgets": {},
     "nuid": "23bd2d39-db52-4f3b-baea-4aa96d4803fd",
     "showTitle": false,
     "title": ""
    }
   },
   "source": [
    "#### 1. Find the most popular category in each country\n",
    "Find the most popular Pinterest category people post to based on their country.\n",
    "\n",
    "Query should return a DataFrame that contains the following columns:\n",
    "- country\n",
    "- category\n",
    "- category_count, a new column containing the desired query output"
   ]
  },
  {
   "cell_type": "code",
   "execution_count": 0,
   "metadata": {
    "application/vnd.databricks.v1+cell": {
     "cellMetadata": {
      "byteLimit": 2048000,
      "rowLimit": 10000
     },
     "inputWidgets": {},
     "nuid": "1996d477-3ba2-4adc-bb85-8720666db071",
     "showTitle": false,
     "title": ""
    }
   },
   "outputs": [],
   "source": [
    "from pyspark.sql import Window\n",
    "# Join the DataFrames\n",
    "joined_df = cleaned_df_pin.join(cleaned_df_geo, cleaned_df_pin.ind == cleaned_df_geo.ind) \\\n",
    "                     .select(\"country\", \"category\")\n",
    "\n",
    "# Group by country and category, and count the occurrences\n",
    "result_df = joined_df.groupBy(\"country\", \"category\").agg(count(\"*\").alias(\"category_count\"))\n",
    "\n",
    "# Rank the categories within each country based on the category count\n",
    "window_spec = Window.partitionBy(\"country\").orderBy(desc(\"category_count\"))\n",
    "result_df = result_df.withColumn(\"rank\", rank().over(window_spec))\n",
    "\n",
    "# Filter to get the most popular category in each country\n",
    "result_df = result_df.filter(\"rank = 1\").drop(\"rank\")\n",
    "\n",
    "# Show the result DataFrame\n",
    "display(result_df)"
   ]
  },
  {
   "cell_type": "markdown",
   "metadata": {
    "application/vnd.databricks.v1+cell": {
     "cellMetadata": {
      "byteLimit": 2048000,
      "rowLimit": 10000
     },
     "inputWidgets": {},
     "nuid": "8eb84cf3-1fe2-450d-801a-f35f9b2521a8",
     "showTitle": false,
     "title": ""
    }
   },
   "source": [
    "### 2. Find which was the most popular category each year\n",
    "Find how many posts each category had between 2018 and 2022.\n",
    "\n",
    "Query should return a DataFrame that contains the following columns:\n",
    "- post_year, a new column that contains only the year from the timestamp column\n",
    "- category\n",
    "- category_count, a new column containing the desired query output"
   ]
  },
  {
   "cell_type": "code",
   "execution_count": 0,
   "metadata": {
    "application/vnd.databricks.v1+cell": {
     "cellMetadata": {
      "byteLimit": 2048000,
      "rowLimit": 10000
     },
     "inputWidgets": {},
     "nuid": "f952a41f-320f-4106-ace1-65157505d08a",
     "showTitle": false,
     "title": ""
    }
   },
   "outputs": [],
   "source": [
    "# Extract the year from the timestamp column in cleaned_geo\n",
    "cleaned_df_geo = cleaned_df_geo.withColumn(\"post_year\", year(\"timestamp\"))\n",
    "\n",
    "# Join the dataframes on ind\n",
    "joined_df = cleaned_df_pin.join(cleaned_df_geo, cleaned_df_pin.ind == cleaned_df_geo.ind)\n",
    "\n",
    "# Filter posts between 2018 and 2022\n",
    "filtered_df = joined_df.filter(year(\"timestamp\").between(2018, 2022))\n",
    "\n",
    "# Group by year and category, count the number of posts, and find the most popular category each year\n",
    "result_df = (\n",
    "    filtered_df.groupBy(\"post_year\", \"category\")\n",
    "    .count()\n",
    "    .withColumn(\n",
    "        \"rn\",\n",
    "        row_number().over(Window.partitionBy(\"post_year\").orderBy(desc(\"count\"))),\n",
    "    )\n",
    "    .filter(\"rn = 1\")\n",
    "    .select(\"post_year\", \"category\", \"count\")\n",
    "    .withColumnRenamed(\"count\", \"category_count\")\n",
    ")\n",
    "\n",
    "# Show the result\n",
    "display(result_df)\n"
   ]
  },
  {
   "cell_type": "markdown",
   "metadata": {
    "application/vnd.databricks.v1+cell": {
     "cellMetadata": {
      "byteLimit": 2048000,
      "rowLimit": 10000
     },
     "inputWidgets": {},
     "nuid": "779bf864-0165-45ae-adaf-da5a96e2d52f",
     "showTitle": false,
     "title": ""
    }
   },
   "source": [
    "### 3. Find the user with most followers in each country\n",
    "\n",
    "Step 1: For each country find the user with the most followers.\n",
    "Query should return a DataFrame that contains the following columns:\n",
    "- country\n",
    "- poster_name\n",
    "- follower_count\n",
    "\n",
    "Step 2: Based on the above query, find the country with the user with most followers.\n",
    "Query should return a DataFrame that contains the following columns:\n",
    "- country\n",
    "- follower_count\n",
    "\n",
    "This DataFrame should have only one entry."
   ]
  },
  {
   "cell_type": "code",
   "execution_count": 0,
   "metadata": {
    "application/vnd.databricks.v1+cell": {
     "cellMetadata": {
      "byteLimit": 2048000,
      "rowLimit": 10000
     },
     "inputWidgets": {},
     "nuid": "3ef99977-cd6f-43b5-8d28-9ac80359af46",
     "showTitle": false,
     "title": ""
    }
   },
   "outputs": [],
   "source": [
    "# Step 1: For each country find the user with the most followers\n",
    "\n",
    "# Join the relevant DataFrames\n",
    "joined_df = cleaned_df_pin.join(cleaned_df_geo, cleaned_df_pin.ind == cleaned_df_geo.ind)\n",
    "\n",
    "most_followed_by_country_df = (\n",
    "    joined_df\n",
    "    .groupBy(\"country\", \"poster_name\")\n",
    "    .agg(max(\"follower_count\").alias(\"follower_count\"))\n",
    "    .select(\"country\", \"poster_name\", \"follower_count\")\n",
    ")\n",
    "\n",
    "# Step 2: Based on the above query, find the country with the user with most followers\n",
    "most_followed_users_country_df = (\n",
    "    most_followed_by_country_df\n",
    "    .groupBy(\"country\")\n",
    "    .agg(max(\"follower_count\").alias(\"follower_count\"))\n",
    "    .orderBy(col(\"follower_count\").desc())\n",
    "    .limit(1)\n",
    "    .select(\"country\", \"follower_count\")\n",
    ")\n",
    "\n",
    "display(most_followed_users_country_df)"
   ]
  },
  {
   "cell_type": "markdown",
   "metadata": {
    "application/vnd.databricks.v1+cell": {
     "cellMetadata": {
      "byteLimit": 2048000,
      "rowLimit": 10000
     },
     "inputWidgets": {},
     "nuid": "1f74201c-900d-443d-90b9-e784778d98c1",
     "showTitle": false,
     "title": ""
    }
   },
   "source": [
    "### 4. Find the most popular category by different age groups\n",
    "What is the most popular category people post to based on the following age groups: \n",
    "18-24, 25-35, 36-50, +50\n",
    "\n",
    "Query should return a DataFrame that contains the following columns:\n",
    "- age_group, a new column based on the original age column\n",
    "- category\n",
    "- category_count, a new column containing the desired query output"
   ]
  },
  {
   "cell_type": "code",
   "execution_count": 0,
   "metadata": {
    "application/vnd.databricks.v1+cell": {
     "cellMetadata": {
      "byteLimit": 2048000,
      "rowLimit": 10000
     },
     "inputWidgets": {},
     "nuid": "b02991ba-9428-4abe-bd24-25e16306b21f",
     "showTitle": false,
     "title": ""
    }
   },
   "outputs": [],
   "source": [
    "# Step 1: Join the relevant DataFrames\n",
    "joined_df = cleaned_df_pin.join(cleaned_df_user, cleaned_df_pin.ind == cleaned_df_user.ind)\n",
    "\n",
    "# Step 2: Define column for age groups\n",
    "joined_df = joined_df.withColumn(\n",
    "    \"age_group\",\n",
    "    when((col(\"age\") >= 18) & (col(\"age\") <= 24), \"18-24\")\n",
    "    .when((col(\"age\") >= 25) & (col(\"age\") <= 35), \"25-35\")\n",
    "    .when((col(\"age\") >= 36) & (col(\"age\") <= 50), \"36-50\")\n",
    "    .when(col(\"age\") > 50, \"50+\")\n",
    "    .otherwise(\"Unknown\")\n",
    ")\n",
    "\n",
    "# Step 3: Group by age_group and category, then count the occurrences\n",
    "category_count_df = (\n",
    "    joined_df\n",
    "    .groupBy(\"age_group\", \"category\")\n",
    "    .agg({\"category\": \"count\"})\n",
    "    .withColumnRenamed(\"count(category)\", \"category_count\")\n",
    ")\n",
    "\n",
    "# Step 4: Find the most popular category for each age group\n",
    "window_spec = Window.partitionBy(\"age_group\").orderBy(col(\"category_count\").desc())\n",
    "most_popular_category_df = (\n",
    "    category_count_df\n",
    "    .withColumn(\"rank\", row_number().over(window_spec))\n",
    "    .filter(col(\"rank\") == 1)\n",
    "    .select(\"age_group\", \"category\", \"category_count\")\n",
    ")\n",
    "\n",
    "display(most_popular_category_df)"
   ]
  },
  {
   "cell_type": "markdown",
   "metadata": {
    "application/vnd.databricks.v1+cell": {
     "cellMetadata": {
      "byteLimit": 2048000,
      "rowLimit": 10000
     },
     "inputWidgets": {},
     "nuid": "f2ee5019-8009-4ef8-9140-4dd4943c61ea",
     "showTitle": false,
     "title": ""
    }
   },
   "source": [
    "### 5. Find the median follower count for different age groups\n",
    "What is the median follower count for users in the following age groups: 18-24, 25-35, 36-50, +50  \n",
    "\n",
    "Query should return a DataFrame that contains the following columns:\n",
    "- age_group, a new column based on the original age column\n",
    "- median_follower_count, a new column containing the desired query output"
   ]
  },
  {
   "cell_type": "code",
   "execution_count": 0,
   "metadata": {
    "application/vnd.databricks.v1+cell": {
     "cellMetadata": {
      "byteLimit": 2048000,
      "rowLimit": 10000
     },
     "inputWidgets": {},
     "nuid": "dfbeb806-1173-4c87-847c-f8cad13d7c0f",
     "showTitle": false,
     "title": ""
    }
   },
   "outputs": [],
   "source": [
    "from pyspark.sql.functions import col, when, percentile_approx\n",
    "\n",
    "# Step 1: Join the relevant DataFrames\n",
    "joined_df = cleaned_df_pin.join(cleaned_df_user, cleaned_df_pin.ind == cleaned_df_user.ind)\n",
    "\n",
    "# Step 2: Define column for age groups\n",
    "joined_df = joined_df.withColumn(\n",
    "    \"age_group\",\n",
    "    when((col(\"age\") >= 18) & (col(\"age\") <= 24), \"18-24\")\n",
    "    .when((col(\"age\") >= 25) & (col(\"age\") <= 35), \"25-35\")\n",
    "    .when((col(\"age\") >= 36) & (col(\"age\") <= 50), \"36-50\")\n",
    "    .when(col(\"age\") > 50, \"50+\")\n",
    "    .otherwise(\"Unknown\")\n",
    ")\n",
    "\n",
    "# Step 3: Calculate the median follower count for each age group\n",
    "median_follower_count_df = (\n",
    "    joined_df\n",
    "    .groupBy(\"age_group\")\n",
    "    .agg(percentile_approx(\"follower_count\", 0.5).alias(\"median_follower_count\"))\n",
    "    .orderBy(\"age_group\")\n",
    ")\n",
    "\n",
    "display(median_follower_count_df)\n"
   ]
  },
  {
   "cell_type": "markdown",
   "metadata": {
    "application/vnd.databricks.v1+cell": {
     "cellMetadata": {
      "byteLimit": 2048000,
      "rowLimit": 10000
     },
     "inputWidgets": {},
     "nuid": "bcf71e99-b926-4a84-bf56-4fa5a5cbd952",
     "showTitle": false,
     "title": ""
    }
   },
   "source": [
    "### 6. Find how many users have joined each year\n",
    "Find how many users have joined between 2015 and 2020.\n",
    "\n",
    "Query should return a DataFrame that contains the following columns:\n",
    "- post_year, a new column that contains only the year from the timestamp column\n",
    "- number_users_joined, a new column containing the desired query output"
   ]
  },
  {
   "cell_type": "code",
   "execution_count": 0,
   "metadata": {
    "application/vnd.databricks.v1+cell": {
     "cellMetadata": {
      "byteLimit": 2048000,
      "rowLimit": 10000
     },
     "inputWidgets": {},
     "nuid": "5d6dae9b-2a0b-485e-b912-3762fa383187",
     "showTitle": false,
     "title": ""
    }
   },
   "outputs": [],
   "source": [
    "# Step 1: Extract the year from the timestamp\n",
    "cleaned_df_user = cleaned_df_user.withColumn(\"post_year\", year(\"date_joined\"))\n",
    "\n",
    "# Step 2: Filter the data for users who joined between 2015 and 2020\n",
    "users_joined_df = (\n",
    "    cleaned_df_user\n",
    "    .filter((col(\"post_year\") >= 2015) & (col(\"post_year\") <= 2020))\n",
    "    .groupBy(\"post_year\")\n",
    "    .agg({\"ind\": \"count\"})\n",
    "    .withColumnRenamed(\"count(ind)\", \"number_users_joined\")\n",
    ")\n",
    "\n",
    "display(users_joined_df)"
   ]
  },
  {
   "cell_type": "markdown",
   "metadata": {
    "application/vnd.databricks.v1+cell": {
     "cellMetadata": {
      "byteLimit": 2048000,
      "rowLimit": 10000
     },
     "inputWidgets": {},
     "nuid": "ef02c296-4058-46cc-ac1a-b5fd677e08c2",
     "showTitle": false,
     "title": ""
    }
   },
   "source": [
    "### 7. Find the median follower count of users based on their joining year\n",
    "\n",
    "Find the median follower count of users have joined between 2015 and 2020.\n",
    "\n",
    "Query should return a DataFrame that contains the following columns:\n",
    "- post_year, a new column that contains only the year from the timestamp column\n",
    "- median_follower_count, a new column containing the desired query output"
   ]
  },
  {
   "cell_type": "code",
   "execution_count": 0,
   "metadata": {
    "application/vnd.databricks.v1+cell": {
     "cellMetadata": {
      "byteLimit": 2048000,
      "rowLimit": 10000
     },
     "inputWidgets": {},
     "nuid": "52211604-5514-4c8a-a670-71c97073e13b",
     "showTitle": false,
     "title": ""
    }
   },
   "outputs": [],
   "source": [
    "from pyspark.sql.functions import col, when, percentile_approx\n",
    "\n",
    "# Step 1: Extract the year from the timestamp\n",
    "cleaned_df_user = cleaned_df_user.withColumn(\"joining_year\", year(\"date_joined\"))\n",
    "\n",
    "# Step 2: Join the relevant DataFrames\n",
    "joined_df = cleaned_df_pin.join(cleaned_df_user, cleaned_df_pin.ind == cleaned_df_user.ind)\n",
    "\n",
    "# Step 3: Calculate the median follower count for each post_year\n",
    "median_follower_count_df = (\n",
    "    joined_df\n",
    "    .groupBy(\"joining_year\")\n",
    "    .agg(percentile_approx(\"follower_count\", 0.5).alias(\"median_follower_count\"))\n",
    ")\n",
    "\n",
    "display(median_follower_count_df)\n"
   ]
  },
  {
   "cell_type": "markdown",
   "metadata": {
    "application/vnd.databricks.v1+cell": {
     "cellMetadata": {
      "byteLimit": 2048000,
      "rowLimit": 10000
     },
     "inputWidgets": {},
     "nuid": "ae1b51b5-7492-494c-a65c-c4a00bb5e569",
     "showTitle": false,
     "title": ""
    }
   },
   "source": [
    "### 8. Find the median follower count of users based on their joining year and age group\n",
    "\n",
    "Find the median follower count of users that have joined between 2015 and 2020, based on which age group they are part of.\n",
    "\n",
    "Query should return a DataFrame that contains the following columns:\n",
    "- age_group, a new column based on the original age column\n",
    "- joining_year, a new column that contains only the year from the timestamp column\n",
    "- median_follower_count, a new column containing the desired query output\n"
   ]
  },
  {
   "cell_type": "code",
   "execution_count": 0,
   "metadata": {
    "application/vnd.databricks.v1+cell": {
     "cellMetadata": {
      "byteLimit": 2048000,
      "rowLimit": 10000
     },
     "inputWidgets": {},
     "nuid": "3f985ba5-50e4-4e1f-8c21-ada5d4df1a42",
     "showTitle": false,
     "title": ""
    }
   },
   "outputs": [],
   "source": [
    "# Step 1: Join the relevant DataFrames\n",
    "joined_df = cleaned_df_pin.join(cleaned_df_user, cleaned_df_pin.ind == cleaned_df_user.ind)\n",
    "\n",
    "# Step 2: Extract the year from the timestamp\n",
    "joined_df = joined_df.withColumn(\"joining_year\", year(\"date_joined\"))\n",
    "\n",
    "# Step 3: Define column for age groups\n",
    "joined_df = joined_df.withColumn(\n",
    "    \"age_group\",\n",
    "    when((col(\"age\") >= 18) & (col(\"age\") <= 24), \"18-24\")\n",
    "    .when((col(\"age\") >= 25) & (col(\"age\") <= 35), \"25-35\")\n",
    "    .when((col(\"age\") >= 36) & (col(\"age\") <= 50), \"36-50\")\n",
    "    .when(col(\"age\") > 50, \"50+\")\n",
    "    .otherwise(\"Unknown\")\n",
    ")\n",
    "\n",
    "# Step 4: Filter the data for users who joined between 2015 and 2020\n",
    "filtered_df = joined_df.filter((col(\"joining_year\") >= 2015) & (col(\"joining_year\") <= 2020))\n",
    "\n",
    "# Step 5: Calculate the median follower count for each age group and post_year\n",
    "median_follower_count_df = (\n",
    "    filtered_df\n",
    "    .groupBy(\"age_group\", \"joining_year\")\n",
    "    .agg(percentile_approx(\"follower_count\", 0.5).alias(\"median_follower_count\"))\n",
    "    .orderBy(\"joining_year\", \"age_group\")\n",
    ")\n",
    "\n",
    "display(median_follower_count_df)"
   ]
  }
 ],
 "metadata": {
  "application/vnd.databricks.v1+notebook": {
   "dashboards": [],
   "language": "python",
   "notebookMetadata": {
    "pythonIndentUnit": 4
   },
   "notebookName": "data_analysis_queries",
   "widgets": {}
  }
 },
 "nbformat": 4,
 "nbformat_minor": 0
}
