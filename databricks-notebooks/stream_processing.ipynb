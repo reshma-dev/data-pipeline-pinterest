{
 "cells": [
  {
   "cell_type": "markdown",
   "metadata": {
    "application/vnd.databricks.v1+cell": {
     "cellMetadata": {},
     "inputWidgets": {},
     "nuid": "6229c302-9ca3-469a-8bf7-0b91fe219de9",
     "showTitle": false,
     "title": ""
    }
   },
   "source": [
    "### Get the AWS access key and secret key"
   ]
  },
  {
   "cell_type": "code",
   "execution_count": 0,
   "metadata": {
    "application/vnd.databricks.v1+cell": {
     "cellMetadata": {},
     "inputWidgets": {},
     "nuid": "6f4213ec-f6b0-4811-b3b3-8534c6f19a82",
     "showTitle": false,
     "title": ""
    }
   },
   "outputs": [],
   "source": [
    "%run \"./get_aws_keys\""
   ]
  },
  {
   "cell_type": "markdown",
   "metadata": {
    "application/vnd.databricks.v1+cell": {
     "cellMetadata": {},
     "inputWidgets": {},
     "nuid": "0f2e8ed0-805e-4011-9374-66bcf3465b19",
     "showTitle": false,
     "title": ""
    }
   },
   "source": [
    "### Define Explicit schemas for the three streams"
   ]
  },
  {
   "cell_type": "code",
   "execution_count": 0,
   "metadata": {
    "application/vnd.databricks.v1+cell": {
     "cellMetadata": {},
     "inputWidgets": {},
     "nuid": "3493ba07-4dc2-4590-b09e-9ae87a3171df",
     "showTitle": false,
     "title": ""
    }
   },
   "outputs": [],
   "source": [
    "from pyspark.sql.types import StructType, StructField, StringType, LongType\n",
    "\n",
    "schema_pin = StructType([StructField(\"index\", LongType(), True),\n",
    "                         StructField(\"unique_id\", StringType(), True),\n",
    "                         StructField(\"title\", StringType(), True),\n",
    "                         StructField(\"description\", StringType(), True),\n",
    "                         StructField(\"follower_count\", StringType(), True),\n",
    "                         StructField(\"poster_name\", StringType(), True),\n",
    "                         StructField(\"tag_list\", StringType(), True),\n",
    "                         StructField(\"is_image_or_video\", StringType(), True),\n",
    "                         StructField(\"image_src\", StringType(), True),\n",
    "                         StructField(\"save_location\", StringType(), True),\n",
    "                         StructField(\"category\", StringType(), True),\n",
    "                         StructField(\"downloaded\", StringType(), True) ])\n",
    "\n",
    "schema_geo = StructType([StructField(\"ind\", LongType(), True),\n",
    "                         StructField(\"country\", StringType(), True),\n",
    "                         StructField(\"latitude\", StringType(), True),\n",
    "                         StructField(\"longitude\", StringType(), True),\n",
    "                         StructField(\"timestamp\", StringType(), True) ])\n",
    "\n",
    "schema_user = StructType([StructField(\"ind\", LongType(), True),\n",
    "                          StructField(\"first_name\", StringType(), True),\n",
    "                          StructField(\"last_name\", StringType(), True),\n",
    "                          StructField(\"age\", StringType(), True),\n",
    "                          StructField(\"date_joined\", StringType(), True)])"
   ]
  },
  {
   "cell_type": "code",
   "execution_count": 0,
   "metadata": {
    "application/vnd.databricks.v1+cell": {
     "cellMetadata": {},
     "inputWidgets": {},
     "nuid": "22539e88-8143-4414-b288-c7896927c9f5",
     "showTitle": false,
     "title": ""
    }
   },
   "outputs": [],
   "source": [
    "%sql\n",
    "SET spark.databricks.delta.formatCheck.enabled=false;"
   ]
  },
  {
   "cell_type": "markdown",
   "metadata": {
    "application/vnd.databricks.v1+cell": {
     "cellMetadata": {},
     "inputWidgets": {},
     "nuid": "0d4a145d-53bc-4710-88d8-741add2f1871",
     "showTitle": false,
     "title": ""
    }
   },
   "source": [
    "### Function to read data from Kinesis streams into Databricks"
   ]
  },
  {
   "cell_type": "code",
   "execution_count": 0,
   "metadata": {
    "application/vnd.databricks.v1+cell": {
     "cellMetadata": {},
     "inputWidgets": {},
     "nuid": "6663abfe-a7e9-40e4-be0b-3883bc169076",
     "showTitle": false,
     "title": ""
    }
   },
   "outputs": [],
   "source": [
    "from pyspark.sql.functions import *\n",
    "\n",
    "def read_stream(schema:StructType, stream_name:str):\n",
    "    return spark.readStream \\\n",
    "                .format('kinesis') \\\n",
    "                .option('streamName', stream_name) \\\n",
    "                .option('initialPosition','earliest') \\\n",
    "                .option('region','us-east-1') \\\n",
    "                .option('awsAccessKey', ACCESS_KEY) \\\n",
    "                .option('awsSecretKey', SECRET_KEY) \\\n",
    "                .load() \\\n",
    "                .selectExpr(\"CAST(data as STRING) jsonData\") \\\n",
    "                .select(from_json(\"jsonData\", schema=schema).alias(\"data\")) \\\n",
    "                .select(\"data.*\")"
   ]
  },
  {
   "cell_type": "markdown",
   "metadata": {
    "application/vnd.databricks.v1+cell": {
     "cellMetadata": {},
     "inputWidgets": {},
     "nuid": "059bfb41-49cc-4c54-bba7-96a48252ab69",
     "showTitle": false,
     "title": ""
    }
   },
   "source": [
    "### Read data for the pin, geo and user data streams into corresponding 3 DataFrames"
   ]
  },
  {
   "cell_type": "code",
   "execution_count": 0,
   "metadata": {
    "application/vnd.databricks.v1+cell": {
     "cellMetadata": {},
     "inputWidgets": {},
     "nuid": "10792de2-66b3-4c4d-95b0-189facea69be",
     "showTitle": false,
     "title": ""
    }
   },
   "outputs": [],
   "source": [
    "df_pin = read_stream(schema_pin, 'streaming-12e371d757c1-pin')\n",
    "df_geo = read_stream(schema_geo, 'streaming-12e371d757c1-geo')\n",
    "df_user = read_stream(schema_user, 'streaming-12e371d757c1-user')"
   ]
  },
  {
   "cell_type": "markdown",
   "metadata": {
    "application/vnd.databricks.v1+cell": {
     "cellMetadata": {},
     "inputWidgets": {},
     "nuid": "880c9b73-5309-4666-9850-3b2d08e8d255",
     "showTitle": false,
     "title": ""
    }
   },
   "source": [
    "### Function to write data to Delta table"
   ]
  },
  {
   "cell_type": "code",
   "execution_count": 0,
   "metadata": {
    "application/vnd.databricks.v1+cell": {
     "cellMetadata": {},
     "inputWidgets": {},
     "nuid": "509f2294-1a5d-46e8-88e2-a500644c403c",
     "showTitle": false,
     "title": ""
    }
   },
   "outputs": [],
   "source": [
    "def write_data(df, table_name):\n",
    "    df.writeStream \\\n",
    "    .format(\"delta\") \\\n",
    "    .outputMode(\"append\") \\\n",
    "    .queryName(\"query_\" + table_name) \\\n",
    "    .option(\"checkpointLocation\", \"/tmp/kinesis/_checkpoints/12e37/\" + table_name + \"/\") \\\n",
    "    .table(table_name)"
   ]
  },
  {
   "cell_type": "markdown",
   "metadata": {
    "application/vnd.databricks.v1+cell": {
     "cellMetadata": {},
     "inputWidgets": {},
     "nuid": "df4887de-5555-47b8-a986-af210138df17",
     "showTitle": false,
     "title": ""
    }
   },
   "source": [
    "NOTE: The .option(\"checkpointLocation\", \"/tmp/kinesis/_checkpoints/\") allows us to recover the previous state of a query in case of failure. Before running the writeStream function again, delete the checkpoint folder using the following command:"
   ]
  },
  {
   "cell_type": "code",
   "execution_count": 0,
   "metadata": {
    "application/vnd.databricks.v1+cell": {
     "cellMetadata": {},
     "inputWidgets": {},
     "nuid": "0c43386d-57f2-40c8-84dc-9c525a0fb1ed",
     "showTitle": false,
     "title": ""
    }
   },
   "outputs": [],
   "source": [
    "# dbutils.fs.rm(\"/tmp/kinesis/_checkpoints/12e37/\", True)\n",
    "# dbutils.fs.rm(\"/tmp/kinesis/_checkpoints/\" + \"12e37_\" + \"12e371d757c1_geo_table\", True)\n",
    "# dbutils.fs.rm(\"/tmp/kinesis/_checkpoints/\" + \"12e37_\" + \"12e371d757c1_user_table\", True)\n",
    "# dbutils.fs.rm(\"/tmp/kinesis/_checkpoints/\" + \"12e37_\" + \"12e371d757c1_pin_table\", True)"
   ]
  },
  {
   "cell_type": "code",
   "execution_count": 0,
   "metadata": {
    "application/vnd.databricks.v1+cell": {
     "cellMetadata": {},
     "inputWidgets": {},
     "nuid": "7791f366-70fd-4be0-a5bc-13b4563b421c",
     "showTitle": false,
     "title": ""
    }
   },
   "outputs": [],
   "source": [
    "%run \"./data_cleaning\""
   ]
  },
  {
   "cell_type": "code",
   "execution_count": 0,
   "metadata": {
    "application/vnd.databricks.v1+cell": {
     "cellMetadata": {},
     "inputWidgets": {},
     "nuid": "5d7e5da3-4808-4196-8378-0a5b7ccc1a38",
     "showTitle": false,
     "title": ""
    }
   },
   "outputs": [],
   "source": [
    "cleaned_df_pin = clean_df_pin(df_pin)\n",
    "cleaned_df_geo = clean_df_geo(df_geo)\n",
    "cleaned_df_user = clean_df_user(df_user)"
   ]
  },
  {
   "cell_type": "code",
   "execution_count": 0,
   "metadata": {
    "application/vnd.databricks.v1+cell": {
     "cellMetadata": {},
     "inputWidgets": {},
     "nuid": "26f2f07b-7bff-4cae-a05d-561528b57538",
     "showTitle": false,
     "title": ""
    }
   },
   "outputs": [],
   "source": [
    "write_data(cleaned_df_pin, '12e371d757c1_pin_table')"
   ]
  },
  {
   "cell_type": "code",
   "execution_count": 0,
   "metadata": {
    "application/vnd.databricks.v1+cell": {
     "cellMetadata": {},
     "inputWidgets": {},
     "nuid": "68c567fd-fa97-4416-8c63-82a1d3ce3e2c",
     "showTitle": false,
     "title": ""
    }
   },
   "outputs": [],
   "source": [
    "write_data(cleaned_df_geo, '12e371d757c1_geo_table')"
   ]
  },
  {
   "cell_type": "code",
   "execution_count": 0,
   "metadata": {
    "application/vnd.databricks.v1+cell": {
     "cellMetadata": {},
     "inputWidgets": {},
     "nuid": "3571b4f2-c9e0-44ae-a1c5-f98e199d96d7",
     "showTitle": false,
     "title": ""
    }
   },
   "outputs": [],
   "source": [
    "write_data(cleaned_df_user, '12e371d757c1_user_table')"
   ]
  },
  {
   "cell_type": "code",
   "execution_count": 0,
   "metadata": {
    "application/vnd.databricks.v1+cell": {
     "cellMetadata": {},
     "inputWidgets": {},
     "nuid": "aebbe813-d100-43bb-985d-1bb1e6b5c13d",
     "showTitle": false,
     "title": ""
    }
   },
   "outputs": [],
   "source": [
    "%sql\n",
    "-- DROP TABLE 12e371d757c1_geo_table;\n",
    "-- DROP TABLE 12e371d757c1_user_table;\n",
    "-- DROP TABLE 12e371d757c1_pin_table;"
   ]
  },
  {
   "cell_type": "code",
   "execution_count": 0,
   "metadata": {
    "application/vnd.databricks.v1+cell": {
     "cellMetadata": {},
     "inputWidgets": {},
     "nuid": "764bffcf-6afd-4f83-84fd-d49b5e17d00a",
     "showTitle": false,
     "title": ""
    }
   },
   "outputs": [],
   "source": []
  }
 ],
 "metadata": {
  "application/vnd.databricks.v1+notebook": {
   "dashboards": [],
   "language": "python",
   "notebookMetadata": {},
   "notebookName": "stream_processing",
   "widgets": {}
  }
 },
 "nbformat": 4,
 "nbformat_minor": 0
}
